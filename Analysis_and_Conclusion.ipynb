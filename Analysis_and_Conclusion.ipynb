{
  "nbformat": 4,
  "nbformat_minor": 0,
  "metadata": {
    "accelerator": "TPU",
    "colab": {
      "provenance": [],
      "authorship_tag": "ABX9TyMuaqz01gOCwOFLWLoWGBW0",
      "include_colab_link": true
    },
    "kernelspec": {
      "display_name": "Python 3",
      "name": "python3"
    },
    "language_info": {
      "name": "python"
    }
  },
  "cells": [
    {
      "cell_type": "markdown",
      "metadata": {
        "id": "view-in-github",
        "colab_type": "text"
      },
      "source": [
        "<a href=\"https://colab.research.google.com/github/adichat08/Support-Vector-Classifier-for-Predicting-Survival-Likelihood-of-Hepatitis-Patients/blob/main/Analysis_and_Conclusion.ipynb\" target=\"_parent\"><img src=\"https://colab.research.google.com/assets/colab-badge.svg\" alt=\"Open In Colab\"/></a>"
      ]
    },
    {
      "cell_type": "markdown",
      "metadata": {
        "id": "DXlqSOQNCIh6"
      },
      "source": [
        "\n",
        "\n",
        "---\n",
        "\n",
        "# Analysis and Conclusion"
      ]
    },
    {
      "cell_type": "markdown",
      "metadata": {
        "id": "XZ_VuN7MCa9S"
      },
      "source": [
        "At the end of the tests, it would be a challenge to choose between the linear model and the SVC. Both displayed virtually equal performance on the cross-validation after parameter tuning and the test set."
      ]
    },
    {
      "cell_type": "code",
      "metadata": {
        "colab": {
          "base_uri": "https://localhost:8080/"
        },
        "id": "o6r4LyvAEkiX",
        "outputId": "d2e6c6b8-e3aa-4773-bd75-1d978947ee2a"
      },
      "source": [
        "# making predictions with the linear model\n",
        "log = LogisticRegression(random_state=42,C=1,solver='lbfgs',max_iter=1000)\n",
        "log.fit(X_train,y_train)\n",
        "log_predict = log.predict(X_test)\n",
        "\n",
        "# making predictions with the SVC\n",
        "svc = SVC(C=100,gamma=0.01,kernel = 'sigmoid',random_state=42)\n",
        "svc.fit(X_train,y_train)\n",
        "svc_predict = svc.predict(X_test)\n",
        "\n",
        "# printing out the predictions and actual labels\n",
        "label_lst = []\n",
        "for i in y_test:\n",
        "  label_lst.append(i)\n",
        "print('LogisticRegression Predictions:\\n{}'.format(log_predict))\n",
        "print('SVC Predictions:\\n{}'.format(svc_predict))\n",
        "print('Actual Labels:\\n{}'.format(np.array(label_lst)))"
      ],
      "execution_count": null,
      "outputs": [
        {
          "output_type": "stream",
          "name": "stdout",
          "text": [
            "LogisticRegression Predictions:\n",
            "[2 2 2 1 2 2 2 1 2 2 2 2 2 2 2 2 2 2 2 2 2 2 2 1 2 2 2 2 2 2]\n",
            "SVC Predictions:\n",
            "[2 2 2 1 2 2 2 1 2 2 2 2 2 2 2 2 2 2 2 2 2 2 2 1 2 2 2 2 2 2]\n",
            "Actual Labels:\n",
            "[2 2 2 1 2 2 2 1 2 2 2 2 2 2 2 1 2 2 2 2 1 2 2 1 2 2 1 2 2 2]\n"
          ]
        }
      ]
    },
    {
      "cell_type": "markdown",
      "metadata": {
        "id": "FS-OQJ0ITk48"
      },
      "source": [
        "As shown above, the SVC and linear model made exactly the same predictions on the test set. For both of them, there were two instances where the class 1 labels were predicted to be class 2. Since the test dataset here is rather small, it's easy to just look at the predictions and make judgments on the models' strengths and weaknesses. However, there are ways to get a more detailed perspective on performance, such as the ones below."
      ]
    },
    {
      "cell_type": "code",
      "metadata": {
        "colab": {
          "base_uri": "https://localhost:8080/"
        },
        "id": "uoVRNT3Rvwbn",
        "outputId": "518a97e0-5123-4dd8-bb14-ffca14fcb493"
      },
      "source": [
        "# printing the performance details for the linear model\n",
        "print('LogisticRegression confusion matrix:\\n{}'.format(confusion_matrix(y_test,log_predict)))\n",
        "print('LogisticRegression classification report:\\n{}'.format(classification_report(y_test,log_predict)))"
      ],
      "execution_count": null,
      "outputs": [
        {
          "output_type": "stream",
          "name": "stdout",
          "text": [
            "LogisticRegression confusion matrix:\n",
            "[[ 3  3]\n",
            " [ 0 24]]\n",
            "LogisticRegression classification report:\n",
            "              precision    recall  f1-score   support\n",
            "\n",
            "           1       1.00      0.50      0.67         6\n",
            "           2       0.89      1.00      0.94        24\n",
            "\n",
            "    accuracy                           0.90        30\n",
            "   macro avg       0.94      0.75      0.80        30\n",
            "weighted avg       0.91      0.90      0.89        30\n",
            "\n"
          ]
        }
      ]
    },
    {
      "cell_type": "code",
      "metadata": {
        "colab": {
          "base_uri": "https://localhost:8080/"
        },
        "id": "U2CqqMfqWZXG",
        "outputId": "807401d2-d7aa-49a8-ff79-6c988692acea"
      },
      "source": [
        "# printing the performance details for the SVC\n",
        "print('SVC confusion matrix:\\n{}'.format(confusion_matrix(y_test,svc_predict)))\n",
        "print('SVC classification report:\\n{}'.format(classification_report(y_test,svc_predict)))"
      ],
      "execution_count": null,
      "outputs": [
        {
          "output_type": "stream",
          "name": "stdout",
          "text": [
            "SVC confusion matrix:\n",
            "[[ 3  3]\n",
            " [ 0 24]]\n",
            "SVC classification report:\n",
            "              precision    recall  f1-score   support\n",
            "\n",
            "           1       1.00      0.50      0.67         6\n",
            "           2       0.89      1.00      0.94        24\n",
            "\n",
            "    accuracy                           0.90        30\n",
            "   macro avg       0.94      0.75      0.80        30\n",
            "weighted avg       0.91      0.90      0.89        30\n",
            "\n"
          ]
        }
      ]
    },
    {
      "cell_type": "markdown",
      "metadata": {
        "id": "ul1Wyry2bwRW"
      },
      "source": [
        "  Both the SVC and linear model show identical performance in the confusion matrix and classification report. The confusion matrix indicates that there were three true negatives(class 1 predicted as class 1), three false positives(class 1 predicted as class 2), no false negatives(class 2 predicted as class 1),and 24 true positives(class 2 predicted as class 2). This assumes that class 2 is the positive class, but in many cases, the minority would be the positive class(class 1, in this instance). When looking at the classification report, the information in the first row assumes that class 1 is the positive class, and the second row assumes the positive class to be class 2.\n",
        "\n",
        "  In the classification report, one can see that the when class 1 is the positive class, there is a precision of 1, which means that all the samples that were predicted to be class 1 were actually class 1. The recall is 0.5, which indicates that half of all the class 1s were predicted as class 1. Likewise, if one were to look at class 2 as the positive class, then the precision would be 0.89, as not all samples predicted as class 2 were actually class 2. However, the recall is 1, because all the class 2s were predicted as class 2.\n",
        "\n",
        "  Another point that can be examined about the models in question is the certainty with which they made each decision."
      ]
    },
    {
      "cell_type": "code",
      "metadata": {
        "id": "4S4KYUQUQ0v2",
        "colab": {
          "base_uri": "https://localhost:8080/"
        },
        "outputId": "bbff2d8f-7d91-47a6-b465-12d11ad3e391"
      },
      "source": [
        "# printing decision certainties for the linear model\n",
        "print('LogisticRegression decision certainty:\\n{}'.format(log.decision_function(X_test)))"
      ],
      "execution_count": null,
      "outputs": [
        {
          "output_type": "stream",
          "name": "stdout",
          "text": [
            "LogisticRegression decision certainty:\n",
            "[ 3.68288203  3.40921448  2.62627507 -0.16184252  3.76966083  4.99600893\n",
            "  4.43904679 -1.26086408  2.63402931  4.86801782  2.15655024  4.14398111\n",
            "  1.23895527  3.79674699  0.55683049  4.45865509  3.84548438  3.84420855\n",
            "  4.57673931  3.82820677  1.94167667  2.25877632  2.31019948 -0.88179436\n",
            "  3.54144671  6.8086154   0.81542594  3.46796518  5.6252466   0.70138552]\n"
          ]
        }
      ]
    },
    {
      "cell_type": "code",
      "metadata": {
        "colab": {
          "base_uri": "https://localhost:8080/"
        },
        "id": "eqrsm2Y6Ltxq",
        "outputId": "0f275694-74f2-416a-ed9f-12a6dc6099af"
      },
      "source": [
        "# printing decision certainties for the SVC\n",
        "print('SVC decision certainty:\\n{}'.format(svc.decision_function(X_test)))"
      ],
      "execution_count": null,
      "outputs": [
        {
          "output_type": "stream",
          "name": "stdout",
          "text": [
            "SVC decision certainty:\n",
            "[ 2.97694625  2.16968269  1.91178736 -0.48663314  2.48874233  3.45440417\n",
            "  2.62581712 -2.34392841  1.6424457   4.05941997  2.31283638  3.21961146\n",
            "  0.37281569  2.53935946  0.09120863  3.5636346   2.38709412  2.57396344\n",
            "  3.53912598  1.76732509  0.2831205   2.35099337  1.58191222 -1.48675427\n",
            "  2.47396667  4.22793795  0.56968956  1.83294886  3.00889823  0.70965508]\n"
          ]
        }
      ]
    },
    {
      "cell_type": "markdown",
      "metadata": {
        "id": "vy7CsRWNMwNM"
      },
      "source": [
        "In the above array, a more positive value indicates that the model favored class 2, while a more negative value indicates that the model favored class 1. A number that is closer to zero shows that the model wasn't very confident in its labeling for that particular sample. For instance, the first sample was predicted as class 2 by both the linear model and SVC, and the decision function values for this labeling were 3.68 and 2.79 respectively. Since these numbers are relatively high compared to many others in the array, it goes to show that the model was quite sure that the sample should be labeled as class 2.  \n",
        "\n",
        "One way to further understand the models' mistakes would be to look at the decision function values for the class 1 samples; the ones that were predicted correctly, and also the ones the weren't."
      ]
    },
    {
      "cell_type": "code",
      "metadata": {
        "colab": {
          "base_uri": "https://localhost:8080/"
        },
        "id": "eooXUcxqP7k_",
        "outputId": "9238eeb8-b413-4b15-e7a2-648bb092fa68"
      },
      "source": [
        "# finding the indices of the class 1 samples.\n",
        "class_1_index_lst = []\n",
        "for i in range(len(label_lst)):\n",
        "  if label_lst[i]==1:\n",
        "    class_1_index_lst.append(i)\n",
        "print(class_1_index_lst)"
      ],
      "execution_count": null,
      "outputs": [
        {
          "output_type": "stream",
          "name": "stdout",
          "text": [
            "[3, 7, 15, 20, 23, 26]\n"
          ]
        }
      ]
    },
    {
      "cell_type": "code",
      "metadata": {
        "colab": {
          "base_uri": "https://localhost:8080/"
        },
        "id": "xrZwge0XQq-o",
        "outputId": "693b5e74-906b-4d70-bfe6-03298e9d8582"
      },
      "source": [
        "print('LogisticRegression decision certainty for class 1 samples:')\n",
        "print(log.decision_function(X_test)[3],':','correct')\n",
        "print(log.decision_function(X_test)[7],':','correct')\n",
        "print(log.decision_function(X_test)[15],':','incorrect')\n",
        "print(log.decision_function(X_test)[20],':','incorrect')\n",
        "print(log.decision_function(X_test)[23],':','correct')\n",
        "print(log.decision_function(X_test)[26],':','incorrect')"
      ],
      "execution_count": null,
      "outputs": [
        {
          "output_type": "stream",
          "name": "stdout",
          "text": [
            "LogisticRegression decision certainty for class 1 samples:\n",
            "-0.16184252007884092 : correct\n",
            "-1.2608640784900351 : correct\n",
            "4.458655086708019 : incorrect\n",
            "1.9416766682565245 : incorrect\n",
            "-0.8817943634693162 : correct\n",
            "0.8154259408958147 : incorrect\n"
          ]
        }
      ]
    },
    {
      "cell_type": "code",
      "metadata": {
        "colab": {
          "base_uri": "https://localhost:8080/"
        },
        "id": "eSPwEsEfRGtm",
        "outputId": "9020ffc8-008b-481f-9c19-cf5d3bc2fee7"
      },
      "source": [
        "print('SVC decision certainty for class 1 samples:')\n",
        "print(svc.decision_function(X_test)[3],':','correct')\n",
        "print(svc.decision_function(X_test)[7],':','correct')\n",
        "print(svc.decision_function(X_test)[15],':','incorrect')\n",
        "print(svc.decision_function(X_test)[20],':','incorrect')\n",
        "print(svc.decision_function(X_test)[23],':','correct')\n",
        "print(svc.decision_function(X_test)[26],':','incorrect')"
      ],
      "execution_count": null,
      "outputs": [
        {
          "output_type": "stream",
          "name": "stdout",
          "text": [
            "SVC decision certainty for class 1 samples:\n",
            "-0.48663313715332146 : correct\n",
            "-2.3439284055912624 : correct\n",
            "3.563634604078716 : incorrect\n",
            "0.28312049937354233 : incorrect\n",
            "-1.4867542670532718 : correct\n",
            "0.5696895557594766 : incorrect\n"
          ]
        }
      ]
    },
    {
      "cell_type": "markdown",
      "metadata": {
        "id": "6W9UQ6Q3BNCN"
      },
      "source": [
        "One interesting point to note above would be that the SVC was more confident in the predictions it made correctly and less confident in the predictions it made incorrectly when compared to the linear model. For instance, the SVC's decision function value for the first label predicted incorrectly was 3.56, while the linear model's was 4.46. The SVC's decision function value for the second label predicted incorrectly was 0.28, while the linear model's was 1.94. This indicates that the SVC is likely a better model for this scenario. Also, since the SVC wasn't very confident in most of its incorrect predictions, it is likely that a larger training set(consisting of more class 1 samples, specifically) would result in increased performance by giving the model more samples from which to generate information. The imbalance in this dataset means that the model is at a disadvantage when it comes to predicting class 1 labels.\n",
        "\n",
        "For the vast majority of machine learning models, their outputs should not directly be taken as law, and must be tempered by expert(in any given area) perspectives. It goes without saying that that also applies to this particular model. Therefore, for human interpretation of these results, one would be advised to also look at the decision function values for a given prediction, not just the prediction itself. This will help highlight areas where human interference is needed."
      ]
    }
  ]
}