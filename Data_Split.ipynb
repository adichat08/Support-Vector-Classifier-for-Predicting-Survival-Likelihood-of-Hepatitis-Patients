{
  "nbformat": 4,
  "nbformat_minor": 0,
  "metadata": {
    "accelerator": "TPU",
    "colab": {
      "provenance": [],
      "authorship_tag": "ABX9TyOjI8uQNXBp52OpjHRuMX80",
      "include_colab_link": true
    },
    "kernelspec": {
      "display_name": "Python 3",
      "name": "python3"
    },
    "language_info": {
      "name": "python"
    }
  },
  "cells": [
    {
      "cell_type": "markdown",
      "metadata": {
        "id": "view-in-github",
        "colab_type": "text"
      },
      "source": [
        "<a href=\"https://colab.research.google.com/github/adichat08/Support-Vector-Classifier-for-Predicting-Survival-Likelihood-of-Hepatitis-Patients/blob/main/Data_Split.ipynb\" target=\"_parent\"><img src=\"https://colab.research.google.com/assets/colab-badge.svg\" alt=\"Open In Colab\"/></a>"
      ]
    },
    {
      "cell_type": "markdown",
      "metadata": {
        "id": "Uf5MQN_6mjwy"
      },
      "source": [
        "\n",
        "\n",
        "---\n",
        "\n",
        "\n",
        "\n",
        "# Splitting the Data"
      ]
    },
    {
      "cell_type": "code",
      "metadata": {
        "id": "Pi7FuIk0H5p2"
      },
      "source": [
        "# function to split the data into the training and test set, and also separate the\n",
        "# feature variables from the target variables\n",
        "def data_split(dataframe,test_size,target,random_state=None):\n",
        "  shuffle_split = StratifiedShuffleSplit(1,test_size=test_size,random_state=random_state)\n",
        "  for train,test in shuffle_split.split(dataframe,dataframe['Class']):\n",
        "    stratified_train = dataframe.loc[train]\n",
        "    stratified_test = dataframe.loc[test]\n",
        "    X_train = stratified_train.iloc[:,1:]\n",
        "    y_train = stratified_train['Class']\n",
        "    X_test = stratified_test.iloc[:,1:]\n",
        "    y_test = stratified_test['Class']\n",
        "    return stratified_train.iloc[:,1:],stratified_test.iloc[:,1:],stratified_train['Class'],stratified_test['Class']\n",
        "\n",
        "X_train,X_test,y_train,y_test = data_split(hepatitis_data,0.2,'Class',0)\n",
        "X_train_unprocessed,X_test_unprocessed,y_train,y_test = data_split(hepatitis_data,0.2,'Class',0)"
      ],
      "execution_count": null,
      "outputs": []
    }
  ]
}